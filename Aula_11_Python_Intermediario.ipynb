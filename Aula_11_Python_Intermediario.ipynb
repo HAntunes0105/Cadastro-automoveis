{
  "nbformat": 4,
  "nbformat_minor": 0,
  "metadata": {
    "colab": {
      "provenance": [],
      "authorship_tag": "ABX9TyPYUQIiQM/HEym1c09Hz/Hb"
    },
    "kernelspec": {
      "name": "python3",
      "display_name": "Python 3"
    },
    "language_info": {
      "name": "python"
    }
  },
  "cells": [
    {
      "cell_type": "markdown",
      "source": [
        "**ARQUIVO**"
      ],
      "metadata": {
        "id": "FEdNmaPsxb2e"
      }
    },
    {
      "cell_type": "code",
      "execution_count": null,
      "metadata": {
        "id": "CZ7RvBEOxVo_",
        "colab": {
          "base_uri": "https://localhost:8080/"
        },
        "outputId": "25880707-e294-4e86-904a-07ad8375c2cb"
      },
      "outputs": [
        {
          "name": "stdout",
          "output_type": "stream",
          "text": [
            "Digite um inteiro: 200\n",
            "Digite um inteiro: 12\n",
            "Digite um inteiro: 23\n",
            "Digite um inteiro: 89\n",
            "Digite um inteiro: 555\n",
            "Digite um inteiro: 0\n"
          ]
        }
      ],
      "source": [
        "'''11.1 Escreva um programa que permaneça em laço lendo números inteiros até que seja digitado 0. Todos\n",
        "os valores digitados, exceto o zero, devem ser gravados em um arquivo em disco, um por linha.\n",
        "Usar o método .write()'''\n",
        "\n",
        "arq = open(\"File1.txt\", \"w\")\n",
        "A = int(input(\"Digite um inteiro: \"))\n",
        "while A != 0:\n",
        "  arq.write(f\"{A}\\n\")\n",
        "  A = int(input(\"Digite um inteiro: \"))\n",
        "arq.close()"
      ]
    },
    {
      "cell_type": "code",
      "source": [
        "'''11.2 Escreva um programa que permaneça em laço lendo números reais até que seja digitado 0. Todos\n",
        "os valores digitados, exceto o zero, devem ser gravados em um arquivo em disco, um por linha, com\n",
        "3 casas decimais. Usar o método .write()'''\n",
        "\n",
        "arquivo = open(\"File2.txt\", \"w\")\n",
        "Num = float(input(\"Digite um numero real: \"))\n",
        "while Num != 0:\n",
        "  arquivo.write(f\"{Num:.3f}\\n\")\n",
        "  Num = float(input(\"Digite um numero real: \"))\n",
        "arquivo.close()"
      ],
      "metadata": {
        "colab": {
          "base_uri": "https://localhost:8080/"
        },
        "id": "p9S1JMNxcJlp",
        "outputId": "16ce6b77-9545-443d-f5e1-8e8a84a0df68"
      },
      "execution_count": null,
      "outputs": [
        {
          "name": "stdout",
          "output_type": "stream",
          "text": [
            "Digite um numero real: 56\n",
            "Digite um numero real: 121.78\n",
            "Digite um numero real: 12\n",
            "Digite um numero real: 0\n"
          ]
        }
      ]
    },
    {
      "cell_type": "code",
      "source": [
        "'''11.3 Escreva um programa que permaneça em laço lendo números reais até que seja digitado 0. Todos\n",
        "os valores digitados, exceto o zero, devem ser gravados em um arquivo em disco, um por linha, com\n",
        "três casas decimais. Usar o método .writelines()'''\n",
        "\n",
        "List = []\n",
        "Num = float(input(\"Digite um numero real: \"))\n",
        "\n",
        "while Num != 0:\n",
        "  List.append(f\"{Num:.3f}\\n\")\n",
        "  Num = float(input(\"Digite um numero real: \"))\n",
        "\n",
        "arq = open(\"File3.txt\", \"w\")\n",
        "arq.writelines(List)\n",
        "arq.close()"
      ],
      "metadata": {
        "colab": {
          "base_uri": "https://localhost:8080/"
        },
        "id": "FRKMSkXveE2D",
        "outputId": "73d5d3cc-2609-48f0-e86b-beae8e889775"
      },
      "execution_count": null,
      "outputs": [
        {
          "name": "stdout",
          "output_type": "stream",
          "text": [
            "Digite um numero real: 45666\n",
            "Digite um numero real: 89\n",
            "Digite um numero real: 20.45\n",
            "Digite um numero real: -77\n",
            "Digite um numero real: 0\n"
          ]
        }
      ]
    },
    {
      "cell_type": "code",
      "source": [
        "'''11.4 Escreva um programa que permaneça que leia um arquivo de entrada, sabendo que esse arquivo\n",
        "tem um número inteiro em cada linha. Todos os números lidos devem ser mostrados na tela. Mostrar\n",
        "também a soma dos valores, a quantidade, a média aritmética, o menor valor e o maior valor.\n",
        "Usar um laço while e na leitura usar o método .readline()'''\n",
        "\n",
        "List = []\n",
        "arq = open(\"File4.txt\", \"r\")\n",
        "Linha = arq.readline()\n",
        "\n",
        "while Linha != \"\":\n",
        "  List.append(int(Linha))\n",
        "  Linha = arq.readline()\n",
        "\n",
        "print(\"DADOS DO ARQUIVO\\n\")\n",
        "print(f\"Lista:\\n{List}\\n\")\n",
        "\n",
        "Soma = sum(List)\n",
        "print(f\"Soma dos valores: {Soma}\")\n",
        "Qntd = len(List)\n",
        "print(f\"Quantidade de elementos: {Qntd}\")\n",
        "print(f\"Media dos valores: {Soma/Qntd}\")\n",
        "Min = min(List)\n",
        "print(f\"Menor valor: {Min}\")\n",
        "Max = max(List)\n",
        "print(f\"Maior valor: {Max}\")\n",
        "\n",
        "\n",
        "\n"
      ],
      "metadata": {
        "colab": {
          "base_uri": "https://localhost:8080/"
        },
        "id": "OjzdgJLp4JSM",
        "outputId": "dea33917-e2a7-44af-b345-6bfeeff28c6d"
      },
      "execution_count": null,
      "outputs": [
        {
          "output_type": "stream",
          "name": "stdout",
          "text": [
            "DADOS DO ARQUIVO\n",
            "\n",
            "Lista:\n",
            "[128, 446, 90, 363, 185, 59, 254, 148, 241, 74]\n",
            "\n",
            "Soma dos valores: 1988\n",
            "Quantidade de elementos: 10\n",
            "Media dos valores: 198.8\n",
            "Menor valor: 59\n",
            "Maior valor: 446\n"
          ]
        }
      ]
    },
    {
      "cell_type": "code",
      "source": [
        "'''11.5 Escreva um programa que permaneça que leia um arquivo de entrada, sabendo que esse arquivo\n",
        "tem um número inteiro em cada linha. Todos os números lidos devem ser mostrados na tela. Mostrar\n",
        "também a soma dos valores, a quantidade, a média aritmética, o menor valor e o maior valor. Usar\n",
        "aqui o mesmo arquivo de entrada do exercício anterior.\n",
        "Usar um iterador for e o arquivo como iterável.'''\n",
        "\n",
        "List = []\n",
        "\n",
        "for X in open(\"File5.txt\", \"r\"):\n",
        "  List.append(int(X))\n",
        "\n",
        "print(\"DADOS DO ARQUIVO\")\n",
        "print(f\"\\n{List}\\n\")\n",
        "Soma = sum(List)\n",
        "print(f\"Soma dos valores: {Soma}\")\n",
        "Qntd = len(List)\n",
        "print(f\"Quantidade de elementos: {Qntd}\")\n",
        "print(f\"Media dos valores: {Soma/Qntd}\")\n",
        "Min = min(List)\n",
        "print(f\"Menor valor: {Min}\")\n",
        "Max = max(List)\n",
        "print(f\"Maior valor: {Max}\")\n",
        "\n"
      ],
      "metadata": {
        "id": "botJLTqj26Ic",
        "colab": {
          "base_uri": "https://localhost:8080/"
        },
        "outputId": "58f3ec85-7b8d-497d-b94b-ff9779e2b6a4"
      },
      "execution_count": null,
      "outputs": [
        {
          "output_type": "stream",
          "name": "stdout",
          "text": [
            "DADOS DO ARQUIVO\n",
            "\n",
            "[128, 446, 90, 363, 185, 59, 254, 148, 241, 74]\n",
            "\n",
            "Soma dos valores: 1988\n",
            "Quantidade de elementos: 10\n",
            "Media dos valores: 198.8\n",
            "Menor valor: 59\n",
            "Maior valor: 446\n"
          ]
        }
      ]
    },
    {
      "cell_type": "code",
      "source": [
        "'''11.6 Escreva um programa que leia um arquivo de entrada carregando seus dados em um dicionário e ao\n",
        "final exibindo-os na tela. A figura 11.1 mostra o do lado esquerdo a natureza dos dados que serão\n",
        "lidos e do lado direito mostra o formato do arquivo.\n",
        "Esse formato é conhecido como CSV. Arquivos CSV são muito usados em diversas áreas da\n",
        "computação, em especial em Análise de Dados. O que caracteriza um arquivo CSV é que cada linha\n",
        "tem um conjunto de dados de alguma forma relacionados e separados por um caractere\n",
        "delimitador. No arquivo deste exercício o delimitador é um ponto-e-vírgula \";\"\n",
        "Neste caso, cada linha tem: código de produto (int), a quantidade em estoque (int), preço (float).\n",
        "Use o código como chave para o dicionário e valor deve ser em formato de tupla.'''\n",
        "\n",
        "Estoque = {}\n",
        "\n",
        "for Linha in open(\"File6.txt\"):\n",
        "  corte = Linha.rstrip() .split(\";\")\n",
        "  Codigo = int(corte[0])\n",
        "  Qntd = int(corte[1])\n",
        "  Preco = float(corte[2])\n",
        "  Estoque[Codigo] = (Qntd, Preco)\n",
        "\n",
        "print(\"{:<7} {:>10} {:>15} {:>15}\".format(\n",
        "    \"CODIGO\", \"QNTD\", \"PRECO UNI\", \"TOTAL\")\n",
        ")\n",
        "for Codigo, Dados in Estoque.items():\n",
        "  print(\"{:<7} {:>10} {:>15} {:>15.2f}\".format(\n",
        "      Codigo,\n",
        "      Dados[0],\n",
        "      Dados[1],\n",
        "      Dados[0] * Dados[1])\n",
        "  )\n",
        "\n",
        "\n"
      ],
      "metadata": {
        "colab": {
          "base_uri": "https://localhost:8080/"
        },
        "id": "i4jDq97_H3Ts",
        "outputId": "5b3b3f09-dee7-4d33-9aa2-005d75a6a0c4"
      },
      "execution_count": null,
      "outputs": [
        {
          "output_type": "stream",
          "name": "stdout",
          "text": [
            "CODIGO        QNTD       PRECO UNI           TOTAL\n",
            "12720           40           83.95         3358.00\n",
            "12840          108           25.44         2747.52\n",
            "11985           26            67.9         1765.40\n",
            "12412          210           17.62         3700.20\n",
            "12650           88           41.17         3622.96\n"
          ]
        }
      ]
    },
    {
      "cell_type": "code",
      "source": [
        "'''11.7 Neste exercício vamos verificar como funciona a codificação dos arquivos texto em Python.\n",
        "Escreva um programa que grave as duas linhas de texto abaixo em um arquivo. Em seguida leia esse\n",
        "arquivo e mostre na tela o que foi lido. As codificações que vamos testar são ANSI e UTF-8 e elas\n",
        "deverão ser lidas do teclado.\n",
        "Texto a ser gravado no arquivo\n",
        "Gravação de Arquivo\n",
        "acentos: á, é, í, Á, É, Í, ç, Ç'''\n",
        "\n",
        "codwrite = input(\"Codificação da gravação: \")\n",
        "codread = input(\"Codificação de leitura: \")\n",
        "\n",
        "arq = open(\"File7.txt\", \"w\", encoding=codwrite)\n",
        "arq.write(\"Gravação de arquivo\\n\")\n",
        "arq.write(\"acentos: á, é, í, Á, É, Í, ç, Ç\\n\")\n",
        "arq.close()\n",
        "\n",
        "arq = open(\"File7.txt\", \"r\", encoding=codread)\n",
        "linha = arq.readline()\n",
        "print(linha.rstrip())\n",
        "linha = arq.readline()\n",
        "print(linha.rstrip())\n",
        "arq.close()"
      ],
      "metadata": {
        "id": "RsN7OzKzt1cH",
        "colab": {
          "base_uri": "https://localhost:8080/"
        },
        "outputId": "fe7a59d5-4c3b-47fa-e029-30bbe571f424"
      },
      "execution_count": null,
      "outputs": [
        {
          "output_type": "stream",
          "name": "stdout",
          "text": [
            "Codificação da gravação: UTF-8\n",
            "Codificação de leitura: UTF-8\n",
            "Gravação de arquivo\n",
            "acentos: á, é, í, Á, É, Í, ç, Ç\n"
          ]
        }
      ]
    },
    {
      "cell_type": "markdown",
      "source": [
        "EXERCICIOS PROPOSTOS"
      ],
      "metadata": {
        "id": "AG8CLNzgGdc9"
      }
    },
    {
      "cell_type": "code",
      "source": [
        "'''11.1 Reescreva o programa exercício resolvido 11.6 usando um dicionário aninhado no lugar da tupla\n",
        "como valor para o dicionário Estoque.\n",
        "'''\n",
        "\n",
        "Estoque = {}\n",
        "\n",
        "for Linha in open(\"File6.txt\"):\n",
        "  corte = Linha.rstrip() .split(\";\")\n",
        "  Codigo = int(corte[0])\n",
        "  Qntd = int(corte[1])\n",
        "  Preco = float(corte[2])\n",
        "  Dados = {\"Qntd\": Qntd, \"Preco\": Preco}\n",
        "  Estoque[Codigo] = Dados\n",
        "\n",
        "print(\"{:<7} {:>10} {:>15} {:>15}\".format(\n",
        "    \"CODIGO\", \"QNTD\", \"PRECO UNI\", \"TOTAL\")\n",
        ")\n",
        "for Codigo, X in Estoque.items():\n",
        "  print(\"{:<7} {:>10} {:>15} {:>15.2f}\".format(\n",
        "      Codigo,\n",
        "      Estoque[Codigo][\"Qntd\"],\n",
        "      Estoque[Codigo][\"Preco\"],\n",
        "      Estoque[Codigo][\"Qntd\"] * Estoque[Codigo][\"Preco\"])\n",
        "  )"
      ],
      "metadata": {
        "colab": {
          "base_uri": "https://localhost:8080/"
        },
        "id": "p5ggwzJGGf8M",
        "outputId": "14504608-8392-404b-9cda-05dacb8a1244"
      },
      "execution_count": null,
      "outputs": [
        {
          "output_type": "stream",
          "name": "stdout",
          "text": [
            "CODIGO        QNTD       PRECO UNI           TOTAL\n",
            "12720           40           83.95         3358.00\n",
            "12840          108           25.44         2747.52\n",
            "11985           26            67.9         1765.40\n",
            "12412          210           17.62         3700.20\n",
            "12650           88           41.17         3622.96\n"
          ]
        }
      ]
    },
    {
      "cell_type": "code",
      "source": [
        "'''11.2 Escreva um programa que leia um arquivo CSV de entrada que tenha dois inteiros em\n",
        "cada linha. O primeiro é um código de produto e o segundo é a quantidade vendida. O\n",
        "programa deve totalizar quantos itens foram vendidos para cada produto.\n",
        "Dica: use um dicionário tendo o código como chave e a quantidade como valor. Para\n",
        "cada código lido do arquivo verifique se ele já existe no dicionário usando o operador\n",
        "in. Se não existir, inclua; se existir some a quantidade existente com a nova quantidade\n",
        "lida do arquivo.'''\n",
        "\n",
        "Estoque = {}\n",
        "\n",
        "for linha in open(\"File8.txt\", \"r\"):\n",
        "  Corte = linha.rstrip().split(\";\")\n",
        "  Cod = int(Corte[0])\n",
        "  Qntd = int(Corte[1])\n",
        "\n",
        "  if Cod in Estoque:\n",
        "    Qntdtotal = Estoque[Cod] + Qntd\n",
        "    Estoque[Cod] = Qntdtotal\n",
        "  else:\n",
        "    Estoque[Cod] = Qntd\n",
        "\n",
        "print(\"INFORMAÇÕES DE VENDAS:\\n\")\n",
        "print(\"{:^8}|{:^8}\".format(\n",
        "    \"CÓDIGO\", \"VENDAS\"\n",
        "))\n",
        "for Codigo, Dados in Estoque.items():\n",
        "  print(\"{:^8}|{:^8}\".format(\n",
        "      Codigo,\n",
        "      Dados)\n",
        "  )\n"
      ],
      "metadata": {
        "colab": {
          "base_uri": "https://localhost:8080/"
        },
        "id": "wqCoQ4B_Klki",
        "outputId": "259841f1-6496-4fdf-f9de-4a8f8c0af855"
      },
      "execution_count": null,
      "outputs": [
        {
          "output_type": "stream",
          "name": "stdout",
          "text": [
            "INFORMAÇÕES DE VENDAS:\n",
            "\n",
            " CÓDIGO | VENDAS \n",
            "   11   |   2    \n",
            "  120   |   32   \n",
            "  140   |   15   \n",
            "  190   |   19   \n",
            "  150   |   23   \n"
          ]
        }
      ]
    },
    {
      "cell_type": "code",
      "source": [
        "'''11.3 Escreva um programa que leia um número inteiro N (10 < N < 10.000) e grave um arquivo com N linhas\n",
        "com os dados listados na tabela abaixo. O arquivo deve ter o nome 'Estoque.csv e deve usar o\n",
        "caractere ';' (ponto e vírgula) como delimitador. Não é necessário que o arquivo esteja ordenado.'''\n",
        "\n",
        "from random import randint\n",
        "from random import uniform\n",
        "from random import choice\n",
        "\n",
        "Estoque = {}\n",
        "Linhas = []\n",
        "\n",
        "while True:\n",
        "  Qntdline = int(input(\"Defina um numero de linhas entre 10 a 10.000: \"))\n",
        "  if Qntdline < 10:\n",
        "    print(\"A quantidade de linhas precisa ser maior que 10...\\n\")\n",
        "    continue\n",
        "  elif Qntdline > 10000:\n",
        "    print(\"A quantidade de linhas precisa ser menor que 10000...\\n\")\n",
        "  else:\n",
        "    for _ in range(Qntdline):\n",
        "      Codproduto = randint(10000, 50000)\n",
        "      Qntd = randint(1, 3800)\n",
        "      Preco = uniform(1.80, 435.90)\n",
        "      ICMS = choice([7, 12, 18])\n",
        "      Dict = {\"Qntd\": Qntd, \"Preco\": Preco, \"ICMS\": ICMS}\n",
        "      Estoque[Codproduto] = Dict\n",
        "\n",
        "      Linhas.append(f\"{Codproduto};{Qntd};{Preco:.2f};{ICMS}\\n\")\n",
        "    break\n",
        "arq = open(\"File9.txt\", \"w\")\n",
        "arq.writelines(Linhas)\n",
        "arq.close()"
      ],
      "metadata": {
        "colab": {
          "base_uri": "https://localhost:8080/"
        },
        "id": "WygCdG3Q_3W0",
        "outputId": "574f79de-d1ec-4858-bd2e-dbbdc6b46c2f"
      },
      "execution_count": null,
      "outputs": [
        {
          "name": "stdout",
          "output_type": "stream",
          "text": [
            "Defina um numero de linhas entre 10 a 10.000: 20\n"
          ]
        }
      ]
    },
    {
      "cell_type": "code",
      "source": [
        "'''11.4 Escreva um programa que grave o arquivo NUMEROS.TXT com 2.000 números, um em cada linha,\n",
        "gerados com a função randint() do módulo random no intervalo [1, 5.000].\n",
        "Variação: Altere este programa substituindo o tamanho fixo de 2.000 por uma quantidade de entrada a ser lida\n",
        "do teclado.\n",
        "'''\n",
        "from random import randint\n",
        "\n",
        "Lines = []\n",
        "Qntdlines = int(input(\"Numero de linhas: \"))\n",
        "\n",
        "for _ in range(Qntdlines):\n",
        "  Num = randint(1, 5000)\n",
        "  Lines.append(f\"{Num}\\n\")\n",
        "\n",
        "arq = open(\"NUMEROS.txt\", \"w\")\n",
        "arq.writelines(Lines)\n",
        "arq.close()"
      ],
      "metadata": {
        "colab": {
          "base_uri": "https://localhost:8080/"
        },
        "id": "jzRcRkW61DXE",
        "outputId": "741e65bf-7679-4a66-ea3f-a3c6a7821dd5"
      },
      "execution_count": null,
      "outputs": [
        {
          "name": "stdout",
          "output_type": "stream",
          "text": [
            "Numero de linhas: 50\n"
          ]
        }
      ]
    },
    {
      "cell_type": "code",
      "source": [
        "'''11.5 Escreva um programa que leia o arquivo NUMEROS.TXT gerado no exercício proposto 11.4,\n",
        "colocando-os em uma lista. Ordene a lista usando o .sort() e grave os números ordenados no arquivo\n",
        "ORDENADOS.TXT.'''\n",
        "\n",
        "Numbers = []\n",
        "\n",
        "for linha in open(\"NUMEROS.txt\", \"r\"):\n",
        "  Numero = int(linha.rstrip())\n",
        "  Numbers.append(Numero)\n",
        "Numbers.sort()\n",
        "\n",
        "arq = open(\"ORDENADOS.txt\", \"w\")\n",
        "for Numero in Numbers:\n",
        "  linha = (f\"{Numero}\\n\")\n",
        "  arq.write(linha)\n",
        "arq.close()"
      ],
      "metadata": {
        "id": "8Cw0F1xv2okr"
      },
      "execution_count": null,
      "outputs": []
    },
    {
      "cell_type": "code",
      "source": [
        "'''11.6 Escreva um programa que leia um arquivo de entrada contendo números inteiros, sendo um por\n",
        "linha, e os coloque em uma lista. Em seguida pense em alguma forma de remover os valores\n",
        "repetidos, deixando apenas uma cópia de cada valor.\n",
        "A lista resultante após a eliminação dos repetidos, deve ser ordenada e salva no arquivo\n",
        "UNICOS.TXT, um inteiro por linha.'''\n",
        "\n",
        "Numeros = []\n",
        "Num_ordem = []\n",
        "\n",
        "Numero = int(input(\"Digite um inteiro: \"))\n",
        "\n",
        "while Numero != 0:\n",
        "  Numeros.append(f\"{Numero}\")\n",
        "  Numero = int(input(\"Digite um inteiro: \"))\n",
        "\n",
        "arq_ent = open(\"ARQUIVO_ENTRADA.txt\", \"w\")\n",
        "arq_ent.writelines(Numeros)\n",
        "arq_ent.close()\n",
        "\n",
        "for Linha in Numeros:\n",
        "  Numero = int(Linha.rstrip())\n",
        "  if Numero in Num_ordem:\n",
        "    continue\n",
        "  else:\n",
        "    Num_ordem.append(Numero)\n",
        "\n",
        "Num_ordem.sort()\n",
        "Numeros.clear()\n",
        "\n",
        "for Linha in Num_ordem:\n",
        "  if Linha in Numeros:\n",
        "    continue\n",
        "  else:\n",
        "    Numeros.append(f\"{Linha}\\n\")\n",
        "\n",
        "arq_unico = open(\"UNICOS.txt\", \"w\")\n",
        "arq_unico.writelines(Numeros)\n",
        "arq_unico.close()"
      ],
      "metadata": {
        "id": "GKZj1I5h7-7h"
      },
      "execution_count": null,
      "outputs": []
    },
    {
      "cell_type": "code",
      "source": [
        "'''11.7 Escreva um programa para registrar os seguintes dados de uma frota de veículos de uma empresa:\n",
        "Placa (string – chave – obrigatório todas as letras maiúsculas)\n",
        "Marca\n",
        "Modelo\n",
        "Tipo (caminhão, furgão, automóvel, motocicleta, etc)\n",
        "Kilometragem\n",
        "Data da Compra (string no formato AAAAMMDD – ano,mês,dia)\n",
        "O programa deve ficar em laço enquanto a Placa for digitada. O laço termina quando for digitado FIM\n",
        "para a placa. Se for digitada uma placa com letras minúsculas o programa deve convertê-las para\n",
        "maiúsculas com o método .upper().\n",
        "Para cada veículo leia todos os dados e carregue em um dicionário. Se uma placa já existente for\n",
        "digitada o programa deve avisar que já existe, mostrar seus dados e se usuário quiser fazer alteração\n",
        "em algum dado basta digitar o novo valor. Para os campos em que nada for digitado deve ser mantido\n",
        "o valor já cadastrado.\n",
        "Ao final do laço grave todos os dados em um arquivo CSV usando o caractere \";\" como delimitador.\n",
        "Detalhe: Este exercício é uma extensão do exercício proposto 10.6, acrescentando a parte referente à\n",
        "gravação do arquivo\n",
        "'''\n",
        "Frota = {}\n",
        "\n",
        "while True:\n",
        "  Placa = input(\"Numero da placa: \")\n",
        "  MPlaca = Placa.upper()\n",
        "  if MPlaca == \"FIM\":\n",
        "    break\n",
        "  elif len(MPlaca) != 7:\n",
        "    print(\"\\nA Placa deve conter 7 caracteres\")\n",
        "  elif MPlaca[0:3].isalpha() == False:\n",
        "    print(\"\\nOs 3 primeiros caracteres precisam ser letras\")\n",
        "  elif MPlaca[4].isalpha() == False:\n",
        "    print(\"\\nO quinto caractere precisa ser uma letra\")\n",
        "  elif MPlaca[3].isnumeric() == False:\n",
        "    print(\"\\nO caracter 3 precisa ser um algarismo\")\n",
        "  elif MPlaca[6:7].isnumeric() == False:\n",
        "    print(\"\\nO caracter 6 e 7 precisa ser um algarismo\")\n",
        "  elif MPlaca in Frota:\n",
        "    Escolha = input(f\"\\nA placa {MPlaca} ja esta registrada na frota de veiculos, deseja fazer alguma alteração?(s/n)  \").lower()\n",
        "    if Escolha == \"n\":\n",
        "      continue\n",
        "    elif Escolha == \"s\":\n",
        "      print(f\"\\nDADOS DA PLACA {MPlaca}:\\n\")\n",
        "      print(\"{:15}{:<10}{:<10}{:<15}{:<10}\".format(\n",
        "          \"MARCA\", \"MODELO\", \"TIPO\", \"KILOMETRAGEM\", \"DATA\")\n",
        "      )\n",
        "      print(\"{:15}{:<10}{:<10}{:<15}{:<10}\\n\".format(\n",
        "          Frota[MPlaca][\"Marca\"], Frota[MPlaca][\"Modelo\"], Frota[MPlaca][\"Tipo\"], Frota[MPlaca][\"Km\"], Frota[MPlaca][\"Data\"])\n",
        "      )\n",
        "\n",
        "      Marca = input(\"Marca: \")\n",
        "      if Marca == \"\":\n",
        "        Frota.setdefault(MPlaca)\n",
        "      else:\n",
        "        Frota[MPlaca][\"Marca\"] = Marca\n",
        "\n",
        "      Modelo = input(\"Modelo: \")\n",
        "      if Modelo == \"\":\n",
        "        Frota.setdefault(MPlaca)\n",
        "      else:\n",
        "        Frota[MPlaca][\"Modelo\"] = Modelo\n",
        "\n",
        "      Tipo = input(\"Tipo: \")\n",
        "      if Tipo == \"\":\n",
        "        Frota.setdefault(MPlaca)\n",
        "      else:\n",
        "        Frota[MPlaca][\"Tipo\"] = Tipo\n",
        "\n",
        "      Km = input(\"Kilometragem: \")\n",
        "      if Km == \"\":\n",
        "        Frota.setdefault(MPlaca)\n",
        "      else:\n",
        "        Frota[MPlaca][\"Km\"] = Km\n",
        "\n",
        "        Data = input(\"Data: \")\n",
        "      if Data == \"\":\n",
        "        Frota.setdefault(MPlaca)\n",
        "      else:\n",
        "        Frota[MPlaca][\"Data\"] = Data\n",
        "      continue\n",
        "\n",
        "  else:\n",
        "    Marca = input(\"Marca: \")\n",
        "    Modelo = input(\"Modelo: \")\n",
        "    Tipo = input(\"Tipo: \")\n",
        "    Km = input(\"Kilometragem: \")\n",
        "    Data = input(\"Data da compra (AAAAMMDD): \")\n",
        "    Dict = {\"Marca\": Marca, \"Modelo\": Modelo, \"Tipo\": Tipo, \"Km\": Km, \"Data\": Data}\n",
        "    Frota[MPlaca] = Dict\n",
        "    continue\n",
        "\n",
        "\n",
        "arq_csv = open(\"Frota.csv\", \"w\")\n",
        "for MPlaca, Dados in Frota.items():\n",
        "  Dado = (\"{};{};{};{};{};{}\\n\".format(\n",
        "      MPlaca, Dados[\"Marca\"], Dados[\"Modelo\"], Dados[\"Tipo\"], Dados[\"Km\"], Dados[\"Data\"]\n",
        "  ))\n",
        "  arq_csv.write(Dado)\n",
        "arq_csv.close()"
      ],
      "metadata": {
        "id": "Kv1B3BblrlcM",
        "colab": {
          "base_uri": "https://localhost:8080/",
          "height": 582
        },
        "outputId": "599d07c4-db49-4a2f-8c21-49ebe7e13743"
      },
      "execution_count": null,
      "outputs": [
        {
          "name": "stdout",
          "output_type": "stream",
          "text": [
            "Numero da placa: ABC7777\n",
            "\n",
            "O quinto caractere precisa ser uma letra\n",
            "Numero da placa: 7777777\n",
            "\n",
            "Os 3 primeiros caracteres precisam ser letras\n",
            "Numero da placa: 6666\n",
            "\n",
            "A Placa deve conter 7 caracteres\n",
            "Numero da placa: ABC7A77\n",
            "Marca: Ford\n",
            "Modelo: Car\n",
            "Tipo: Carro\n"
          ]
        },
        {
          "output_type": "error",
          "ename": "KeyboardInterrupt",
          "evalue": "Interrupted by user",
          "traceback": [
            "\u001b[0;31m---------------------------------------------------------------------------\u001b[0m",
            "\u001b[0;31mKeyboardInterrupt\u001b[0m                         Traceback (most recent call last)",
            "\u001b[0;32m<ipython-input-1-28d40cd06379>\u001b[0m in \u001b[0;36m<cell line: 0>\u001b[0;34m()\u001b[0m\n\u001b[1;32m     82\u001b[0m     \u001b[0mModelo\u001b[0m \u001b[0;34m=\u001b[0m \u001b[0minput\u001b[0m\u001b[0;34m(\u001b[0m\u001b[0;34m\"Modelo: \"\u001b[0m\u001b[0;34m)\u001b[0m\u001b[0;34m\u001b[0m\u001b[0;34m\u001b[0m\u001b[0m\n\u001b[1;32m     83\u001b[0m     \u001b[0mTipo\u001b[0m \u001b[0;34m=\u001b[0m \u001b[0minput\u001b[0m\u001b[0;34m(\u001b[0m\u001b[0;34m\"Tipo: \"\u001b[0m\u001b[0;34m)\u001b[0m\u001b[0;34m\u001b[0m\u001b[0;34m\u001b[0m\u001b[0m\n\u001b[0;32m---> 84\u001b[0;31m     \u001b[0mKm\u001b[0m \u001b[0;34m=\u001b[0m \u001b[0minput\u001b[0m\u001b[0;34m(\u001b[0m\u001b[0;34m\"Kilometragem: \"\u001b[0m\u001b[0;34m)\u001b[0m\u001b[0;34m\u001b[0m\u001b[0;34m\u001b[0m\u001b[0m\n\u001b[0m\u001b[1;32m     85\u001b[0m     \u001b[0mData\u001b[0m \u001b[0;34m=\u001b[0m \u001b[0minput\u001b[0m\u001b[0;34m(\u001b[0m\u001b[0;34m\"Data da compra (AAAAMMDD): \"\u001b[0m\u001b[0;34m)\u001b[0m\u001b[0;34m\u001b[0m\u001b[0;34m\u001b[0m\u001b[0m\n\u001b[1;32m     86\u001b[0m     \u001b[0mDict\u001b[0m \u001b[0;34m=\u001b[0m \u001b[0;34m{\u001b[0m\u001b[0;34m\"Marca\"\u001b[0m\u001b[0;34m:\u001b[0m \u001b[0mMarca\u001b[0m\u001b[0;34m,\u001b[0m \u001b[0;34m\"Modelo\"\u001b[0m\u001b[0;34m:\u001b[0m \u001b[0mModelo\u001b[0m\u001b[0;34m,\u001b[0m \u001b[0;34m\"Tipo\"\u001b[0m\u001b[0;34m:\u001b[0m \u001b[0mTipo\u001b[0m\u001b[0;34m,\u001b[0m \u001b[0;34m\"Km\"\u001b[0m\u001b[0;34m:\u001b[0m \u001b[0mKm\u001b[0m\u001b[0;34m,\u001b[0m \u001b[0;34m\"Data\"\u001b[0m\u001b[0;34m:\u001b[0m \u001b[0mData\u001b[0m\u001b[0;34m}\u001b[0m\u001b[0;34m\u001b[0m\u001b[0;34m\u001b[0m\u001b[0m\n",
            "\u001b[0;32m/usr/local/lib/python3.11/dist-packages/ipykernel/kernelbase.py\u001b[0m in \u001b[0;36mraw_input\u001b[0;34m(self, prompt)\u001b[0m\n\u001b[1;32m   1175\u001b[0m                 \u001b[0;34m\"raw_input was called, but this frontend does not support input requests.\"\u001b[0m\u001b[0;34m\u001b[0m\u001b[0;34m\u001b[0m\u001b[0m\n\u001b[1;32m   1176\u001b[0m             )\n\u001b[0;32m-> 1177\u001b[0;31m         return self._input_request(\n\u001b[0m\u001b[1;32m   1178\u001b[0m             \u001b[0mstr\u001b[0m\u001b[0;34m(\u001b[0m\u001b[0mprompt\u001b[0m\u001b[0;34m)\u001b[0m\u001b[0;34m,\u001b[0m\u001b[0;34m\u001b[0m\u001b[0;34m\u001b[0m\u001b[0m\n\u001b[1;32m   1179\u001b[0m             \u001b[0mself\u001b[0m\u001b[0;34m.\u001b[0m\u001b[0m_parent_ident\u001b[0m\u001b[0;34m[\u001b[0m\u001b[0;34m\"shell\"\u001b[0m\u001b[0;34m]\u001b[0m\u001b[0;34m,\u001b[0m\u001b[0;34m\u001b[0m\u001b[0;34m\u001b[0m\u001b[0m\n",
            "\u001b[0;32m/usr/local/lib/python3.11/dist-packages/ipykernel/kernelbase.py\u001b[0m in \u001b[0;36m_input_request\u001b[0;34m(self, prompt, ident, parent, password)\u001b[0m\n\u001b[1;32m   1217\u001b[0m             \u001b[0;32mexcept\u001b[0m \u001b[0mKeyboardInterrupt\u001b[0m\u001b[0;34m:\u001b[0m\u001b[0;34m\u001b[0m\u001b[0;34m\u001b[0m\u001b[0m\n\u001b[1;32m   1218\u001b[0m                 \u001b[0;31m# re-raise KeyboardInterrupt, to truncate traceback\u001b[0m\u001b[0;34m\u001b[0m\u001b[0;34m\u001b[0m\u001b[0m\n\u001b[0;32m-> 1219\u001b[0;31m                 \u001b[0;32mraise\u001b[0m \u001b[0mKeyboardInterrupt\u001b[0m\u001b[0;34m(\u001b[0m\u001b[0;34m\"Interrupted by user\"\u001b[0m\u001b[0;34m)\u001b[0m \u001b[0;32mfrom\u001b[0m \u001b[0;32mNone\u001b[0m\u001b[0;34m\u001b[0m\u001b[0;34m\u001b[0m\u001b[0m\n\u001b[0m\u001b[1;32m   1220\u001b[0m             \u001b[0;32mexcept\u001b[0m \u001b[0mException\u001b[0m\u001b[0;34m:\u001b[0m\u001b[0;34m\u001b[0m\u001b[0;34m\u001b[0m\u001b[0m\n\u001b[1;32m   1221\u001b[0m                 \u001b[0mself\u001b[0m\u001b[0;34m.\u001b[0m\u001b[0mlog\u001b[0m\u001b[0;34m.\u001b[0m\u001b[0mwarning\u001b[0m\u001b[0;34m(\u001b[0m\u001b[0;34m\"Invalid Message:\"\u001b[0m\u001b[0;34m,\u001b[0m \u001b[0mexc_info\u001b[0m\u001b[0;34m=\u001b[0m\u001b[0;32mTrue\u001b[0m\u001b[0;34m)\u001b[0m\u001b[0;34m\u001b[0m\u001b[0;34m\u001b[0m\u001b[0m\n",
            "\u001b[0;31mKeyboardInterrupt\u001b[0m: Interrupted by user"
          ]
        }
      ]
    },
    {
      "cell_type": "code",
      "source": [
        "'''Escreva um programa para ler o arquivo CSV gerado no exercício proposto 11.7 com os dados de\n",
        "uma frota de veículos de uma empresa:\n",
        "Placa (string - chave)\n",
        "Marca\n",
        "Modelo\n",
        "Tipo (caminhão, furgão, automóvel, motocicleta, etc)\n",
        "Kilometragem\n",
        "Data da Compra (string no formato AAAAMMDD – ano,mês,dia)\n",
        "O programa deve ler o arquivo, carregar um dicionário e exibir os dados na tela com um layout legível'''\n",
        "\n",
        "Frota = {}\n",
        "\n",
        "for Linha in open(\"Frota.csv\", \"r\"):\n",
        "  Corte = Linha.rstrip().split(\";\")\n",
        "  Placa = Corte[0]\n",
        "  Marca = Corte[1]\n",
        "  Modelo = Corte[2]\n",
        "  Tipo = Corte[3]\n",
        "  Km = Corte[4]\n",
        "  Data = Corte[5]\n",
        "  Dict = {\"Marca\": Marca, \"Modelo\": Modelo, \"Tipo\": Tipo, \"Km\": Km, \"Data\": Data}\n",
        "  Frota[Placa] = Dict\n",
        "\n",
        "print(\"\\n{:^55}\\n\".format(\n",
        "    \"FROTA DE AUTOMOVEIS DA EMPRESA\"))\n",
        "print(\"{:10}{:<12}{:<12}{:<10}{:<15}{:<10}\".format(\n",
        "    \"PLACA\", \"MARCA\", \"MODELO\", \"TIPO\", \"KILOMETRAGEM\", \"DATA\")\n",
        "  )\n",
        "for Chave, Dados in Frota.items():\n",
        "  print(\"{:10}{:<12}{:<12}{:<10}{:<15}{:<10}\".format(\n",
        "      Chave, Dados[\"Marca\"], Dados[\"Modelo\"], Dados[\"Tipo\"], Dados[\"Km\"], Dados[\"Data\"])\n",
        "  )"
      ],
      "metadata": {
        "id": "X_RZ9x8Lrpvo",
        "colab": {
          "base_uri": "https://localhost:8080/"
        },
        "outputId": "c71f0245-82a6-4f23-ab60-98d10b17adfd"
      },
      "execution_count": null,
      "outputs": [
        {
          "output_type": "stream",
          "name": "stdout",
          "text": [
            "\n",
            "            FROTA DE AUTOMOVEIS DA EMPRESA             \n",
            "\n",
            "PLACA     MARCA       MODELO      TIPO      KILOMETRAGEM   DATA      \n",
            "A         a           a           a         a              a         \n",
            "B         b           b           b         b              b         \n",
            "C         c           c           c         c              c         \n",
            "D         d           d           d         d              d         \n"
          ]
        }
      ]
    },
    {
      "cell_type": "code",
      "source": [
        "from random import randint\n",
        "from time import sleep\n",
        "\n",
        "Numero = randint(1, 10)\n",
        "Tentativas = 1\n",
        "\n",
        "print(\"ADVINHE O NUMERO QUE EU ESTOU PENSANDO DE 1 A 10\")\n",
        "sleep(3)\n",
        "print(\"Pensando...\")\n",
        "sleep(3)\n",
        "print(\"PENSEI, QUE OS JOGOS COMECEM!!!\\n\")\n",
        "\n",
        "print(\"Advinhe um numero de 1 a 10: \")\n",
        "while Tentativas <= 3:\n",
        "  Advinha = int(input(f\"Tentativa {Tentativas}: \"))\n",
        "\n",
        "  if Advinha > 10 or Advinha < 1:\n",
        "    print(\"\\nDigite um numero valido\")\n",
        "    continue\n",
        "\n",
        "  elif Advinha == Numero:\n",
        "    print(\"ACERTOU, ESSA FOI POR POUCO\")\n",
        "    break\n",
        "  elif Tentativas == 3:\n",
        "    print(f\"FIM DAS TENTATIVAS, O NUMERO ERA {Numero}\")\n",
        "    break\n",
        "  else:\n",
        "    Tentativas += 1"
      ],
      "metadata": {
        "colab": {
          "base_uri": "https://localhost:8080/"
        },
        "id": "A2KcceNKp5R0",
        "outputId": "2020c42e-a333-441c-94cd-35e7b707aeff"
      },
      "execution_count": null,
      "outputs": [
        {
          "output_type": "stream",
          "name": "stdout",
          "text": [
            "ADVINHE O NUMERO QUE EU ESTOU PENSANDO DE 1 A 10\n",
            "Pensando...\n",
            "PENSEI, QUE OS JOGOS COMECEM!!!\n",
            "\n",
            "Advinhe um numero de 1 a 10: \n",
            "Tentativa 1: 11\n",
            "\n",
            "Digite um numero valido\n",
            "Tentativa 1: 20\n",
            "\n",
            "Digite um numero valido\n",
            "Tentativa 1: 0\n",
            "\n",
            "Digite um numero valido\n",
            "Tentativa 1: -8\n",
            "\n",
            "Digite um numero valido\n",
            "Tentativa 1: 1\n",
            "Tentativa 2: 2\n",
            "Tentativa 3: 3\n",
            "FIM DAS TENTATIVAS, O NUMERO ERA 7\n"
          ]
        }
      ]
    }
  ]
}